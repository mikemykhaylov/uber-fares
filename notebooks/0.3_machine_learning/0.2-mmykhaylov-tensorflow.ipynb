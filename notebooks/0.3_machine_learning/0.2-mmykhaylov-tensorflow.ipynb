{
 "cells": [
  {
   "cell_type": "code",
   "execution_count": 22,
   "outputs": [],
   "source": [
    "%reset"
   ],
   "metadata": {
    "collapsed": false,
    "pycharm": {
     "name": "#%%\n"
    }
   }
  },
  {
   "cell_type": "code",
   "execution_count": 23,
   "outputs": [],
   "source": [
    "import numpy as np\n",
    "import pandas as pd\n",
    "import matplotlib.pyplot as plt\n",
    "import tensorflow as tf\n",
    "import tensorflow.keras.backend as K"
   ],
   "metadata": {
    "collapsed": false,
    "pycharm": {
     "name": "#%%\n"
    }
   }
  },
  {
   "cell_type": "code",
   "execution_count": 24,
   "outputs": [
    {
     "data": {
      "text/plain": "   year  is_holiday  passenger_count  distance  month_1  month_2  month_3  \\\n0  2015           0                1  1.681111        0        0        0   \n1  2009           0                1  2.454363        0        0        0   \n2  2009           0                1  5.039603        0        0        0   \n3  2009           0                3  1.661442        0        0        0   \n4  2014           0                5  4.483730        0        0        0   \n\n   month_4  month_5  month_6  ...  dropoff_neighborhood_Sunnyside  \\\n0        0        1        0  ...                               0   \n1        0        0        0  ...                               0   \n2        0        0        0  ...                               0   \n3        0        0        1  ...                               0   \n4        0        0        0  ...                               0   \n\n   dropoff_neighborhood_Theater District  dropoff_neighborhood_Tribeca  \\\n0                                      0                             0   \n1                                      0                             0   \n2                                      0                             0   \n3                                      0                             0   \n4                                      0                             0   \n\n   dropoff_neighborhood_Two Bridges  dropoff_neighborhood_Upper East Side  \\\n0                                 0                                     0   \n1                                 0                                     0   \n2                                 0                                     1   \n3                                 0                                     0   \n4                                 0                                     0   \n\n   dropoff_neighborhood_Upper West Side  dropoff_neighborhood_Vinegar Hill  \\\n0                                     0                                  0   \n1                                     0                                  0   \n2                                     0                                  0   \n3                                     1                                  0   \n4                                     0                                  0   \n\n   dropoff_neighborhood_West Village  dropoff_neighborhood_Williamsburg  fare  \n0                                  0                                  0   7.5  \n1                                  0                                  0   7.7  \n2                                  0                                  0  12.9  \n3                                  0                                  0   5.3  \n4                                  0                                  0  16.0  \n\n[5 rows x 153 columns]",
      "text/html": "<div>\n<style scoped>\n    .dataframe tbody tr th:only-of-type {\n        vertical-align: middle;\n    }\n\n    .dataframe tbody tr th {\n        vertical-align: top;\n    }\n\n    .dataframe thead th {\n        text-align: right;\n    }\n</style>\n<table border=\"1\" class=\"dataframe\">\n  <thead>\n    <tr style=\"text-align: right;\">\n      <th></th>\n      <th>year</th>\n      <th>is_holiday</th>\n      <th>passenger_count</th>\n      <th>distance</th>\n      <th>month_1</th>\n      <th>month_2</th>\n      <th>month_3</th>\n      <th>month_4</th>\n      <th>month_5</th>\n      <th>month_6</th>\n      <th>...</th>\n      <th>dropoff_neighborhood_Sunnyside</th>\n      <th>dropoff_neighborhood_Theater District</th>\n      <th>dropoff_neighborhood_Tribeca</th>\n      <th>dropoff_neighborhood_Two Bridges</th>\n      <th>dropoff_neighborhood_Upper East Side</th>\n      <th>dropoff_neighborhood_Upper West Side</th>\n      <th>dropoff_neighborhood_Vinegar Hill</th>\n      <th>dropoff_neighborhood_West Village</th>\n      <th>dropoff_neighborhood_Williamsburg</th>\n      <th>fare</th>\n    </tr>\n  </thead>\n  <tbody>\n    <tr>\n      <th>0</th>\n      <td>2015</td>\n      <td>0</td>\n      <td>1</td>\n      <td>1.681111</td>\n      <td>0</td>\n      <td>0</td>\n      <td>0</td>\n      <td>0</td>\n      <td>1</td>\n      <td>0</td>\n      <td>...</td>\n      <td>0</td>\n      <td>0</td>\n      <td>0</td>\n      <td>0</td>\n      <td>0</td>\n      <td>0</td>\n      <td>0</td>\n      <td>0</td>\n      <td>0</td>\n      <td>7.5</td>\n    </tr>\n    <tr>\n      <th>1</th>\n      <td>2009</td>\n      <td>0</td>\n      <td>1</td>\n      <td>2.454363</td>\n      <td>0</td>\n      <td>0</td>\n      <td>0</td>\n      <td>0</td>\n      <td>0</td>\n      <td>0</td>\n      <td>...</td>\n      <td>0</td>\n      <td>0</td>\n      <td>0</td>\n      <td>0</td>\n      <td>0</td>\n      <td>0</td>\n      <td>0</td>\n      <td>0</td>\n      <td>0</td>\n      <td>7.7</td>\n    </tr>\n    <tr>\n      <th>2</th>\n      <td>2009</td>\n      <td>0</td>\n      <td>1</td>\n      <td>5.039603</td>\n      <td>0</td>\n      <td>0</td>\n      <td>0</td>\n      <td>0</td>\n      <td>0</td>\n      <td>0</td>\n      <td>...</td>\n      <td>0</td>\n      <td>0</td>\n      <td>0</td>\n      <td>0</td>\n      <td>1</td>\n      <td>0</td>\n      <td>0</td>\n      <td>0</td>\n      <td>0</td>\n      <td>12.9</td>\n    </tr>\n    <tr>\n      <th>3</th>\n      <td>2009</td>\n      <td>0</td>\n      <td>3</td>\n      <td>1.661442</td>\n      <td>0</td>\n      <td>0</td>\n      <td>0</td>\n      <td>0</td>\n      <td>0</td>\n      <td>1</td>\n      <td>...</td>\n      <td>0</td>\n      <td>0</td>\n      <td>0</td>\n      <td>0</td>\n      <td>0</td>\n      <td>1</td>\n      <td>0</td>\n      <td>0</td>\n      <td>0</td>\n      <td>5.3</td>\n    </tr>\n    <tr>\n      <th>4</th>\n      <td>2014</td>\n      <td>0</td>\n      <td>5</td>\n      <td>4.483730</td>\n      <td>0</td>\n      <td>0</td>\n      <td>0</td>\n      <td>0</td>\n      <td>0</td>\n      <td>0</td>\n      <td>...</td>\n      <td>0</td>\n      <td>0</td>\n      <td>0</td>\n      <td>0</td>\n      <td>0</td>\n      <td>0</td>\n      <td>0</td>\n      <td>0</td>\n      <td>0</td>\n      <td>16.0</td>\n    </tr>\n  </tbody>\n</table>\n<p>5 rows × 153 columns</p>\n</div>"
     },
     "execution_count": 24,
     "metadata": {},
     "output_type": "execute_result"
    }
   ],
   "source": [
    "# Load the data\n",
    "df = pd.read_csv('../../data/processed/processed_features.csv')\n",
    "df.head()"
   ],
   "metadata": {
    "collapsed": false,
    "pycharm": {
     "name": "#%%\n"
    }
   }
  },
  {
   "cell_type": "code",
   "execution_count": 25,
   "outputs": [
    {
     "name": "stdout",
     "output_type": "stream",
     "text": [
      "(177451, 152) (4551, 152) (4667, 152)\n"
     ]
    }
   ],
   "source": [
    "# Split the data into training, validation, and test sets\n",
    "from sklearn.model_selection import train_test_split\n",
    "X_train_val, X_test, y_train_val, y_test = train_test_split(df.drop('fare', axis=1), df['fare'], test_size=0.025, random_state=42)\n",
    "X_train, X_val, y_train, y_val = train_test_split(X_train_val, y_train_val, test_size=0.025, random_state=42)\n",
    "print(X_train.shape, X_val.shape, X_test.shape)"
   ],
   "metadata": {
    "collapsed": false,
    "pycharm": {
     "name": "#%%\n"
    }
   }
  },
  {
   "cell_type": "code",
   "execution_count": 26,
   "outputs": [
    {
     "name": "stderr",
     "output_type": "stream",
     "text": [
      "2022-07-12 11:43:54.972075: I tensorflow/core/grappler/optimizers/custom_graph_optimizer_registry.cc:113] Plugin optimizer for device_type GPU is enabled.\n",
      "2022-07-12 11:43:54.998622: I tensorflow/core/grappler/optimizers/custom_graph_optimizer_registry.cc:113] Plugin optimizer for device_type GPU is enabled.\n"
     ]
    }
   ],
   "source": [
    "# Normalize the data\n",
    "normalize = tf.keras.layers.Normalization()\n",
    "normalize.adapt(X_train)"
   ],
   "metadata": {
    "collapsed": false,
    "pycharm": {
     "name": "#%%\n"
    }
   }
  },
  {
   "cell_type": "code",
   "execution_count": 27,
   "outputs": [
    {
     "name": "stdout",
     "output_type": "stream",
     "text": [
      "Model: \"sequential_1\"\n",
      "_________________________________________________________________\n",
      " Layer (type)                Output Shape              Param #   \n",
      "=================================================================\n",
      " normalization_1 (Normalizat  (None, 152)              305       \n",
      " ion)                                                            \n",
      "                                                                 \n",
      " dense_3 (Dense)             (None, 10)                1530      \n",
      "                                                                 \n",
      " dense_4 (Dense)             (None, 10)                110       \n",
      "                                                                 \n",
      " dense_5 (Dense)             (None, 1)                 11        \n",
      "                                                                 \n",
      "=================================================================\n",
      "Total params: 1,956\n",
      "Trainable params: 1,651\n",
      "Non-trainable params: 305\n",
      "_________________________________________________________________\n"
     ]
    }
   ],
   "source": [
    "# Define the model with normalization\n",
    "model = tf.keras.Sequential([\n",
    "    normalize,\n",
    "    tf.keras.layers.Dense(10, activation='relu'),\n",
    "    tf.keras.layers.Dense(10, activation='relu'),\n",
    "    tf.keras.layers.Dense(1)\n",
    "])\n",
    "# Compile the model with the Adam optimizer and the root mean squared error loss function\n",
    "def root_mean_squared_error(y_true, y_pred):\n",
    "    return K.sqrt(K.mean(K.square(y_pred - y_true), axis=-1))\n",
    "\n",
    "model.compile(optimizer=tf.keras.optimizers.Adam(0.001), loss='mse', metrics=[root_mean_squared_error])\n",
    "model.summary()"
   ],
   "metadata": {
    "collapsed": false,
    "pycharm": {
     "name": "#%%\n"
    }
   }
  },
  {
   "cell_type": "code",
   "execution_count": 28,
   "outputs": [
    {
     "name": "stdout",
     "output_type": "stream",
     "text": [
      "Epoch 1/100\n",
      " 1/44 [..............................] - ETA: 21s - loss: 119.0546 - root_mean_squared_error: 9.4314"
     ]
    },
    {
     "name": "stderr",
     "output_type": "stream",
     "text": [
      "2022-07-12 11:45:42.620979: I tensorflow/core/grappler/optimizers/custom_graph_optimizer_registry.cc:113] Plugin optimizer for device_type GPU is enabled.\n"
     ]
    },
    {
     "name": "stdout",
     "output_type": "stream",
     "text": [
      "44/44 [==============================] - 1s 17ms/step - loss: 104.9973 - root_mean_squared_error: 8.7181 - val_loss: 88.7910 - val_root_mean_squared_error: 7.8303\n",
      "Epoch 2/100\n",
      " 6/44 [===>..........................] - ETA: 0s - loss: 87.0154 - root_mean_squared_error: 7.7142"
     ]
    },
    {
     "name": "stderr",
     "output_type": "stream",
     "text": [
      "2022-07-12 11:45:43.465552: I tensorflow/core/grappler/optimizers/custom_graph_optimizer_registry.cc:113] Plugin optimizer for device_type GPU is enabled.\n"
     ]
    },
    {
     "name": "stdout",
     "output_type": "stream",
     "text": [
      "44/44 [==============================] - 1s 12ms/step - loss: 74.1887 - root_mean_squared_error: 6.9522 - val_loss: 57.7317 - val_root_mean_squared_error: 5.9456\n",
      "Epoch 3/100\n",
      "44/44 [==============================] - 0s 11ms/step - loss: 44.1102 - root_mean_squared_error: 5.0756 - val_loss: 31.9429 - val_root_mean_squared_error: 4.2602\n",
      "Epoch 4/100\n",
      "44/44 [==============================] - 0s 11ms/step - loss: 24.4654 - root_mean_squared_error: 3.7313 - val_loss: 19.4527 - val_root_mean_squared_error: 3.3497\n",
      "Epoch 5/100\n",
      "44/44 [==============================] - 0s 11ms/step - loss: 17.0879 - root_mean_squared_error: 3.1446 - val_loss: 15.5537 - val_root_mean_squared_error: 2.9963\n",
      "Epoch 6/100\n",
      "44/44 [==============================] - 0s 11ms/step - loss: 14.5253 - root_mean_squared_error: 2.8997 - val_loss: 13.7740 - val_root_mean_squared_error: 2.8077\n",
      "Epoch 7/100\n",
      "44/44 [==============================] - 0s 11ms/step - loss: 12.9018 - root_mean_squared_error: 2.7274 - val_loss: 12.3417 - val_root_mean_squared_error: 2.6458\n",
      "Epoch 8/100\n",
      "44/44 [==============================] - 0s 11ms/step - loss: 11.4820 - root_mean_squared_error: 2.5661 - val_loss: 11.0140 - val_root_mean_squared_error: 2.4857\n",
      "Epoch 9/100\n",
      "44/44 [==============================] - 0s 11ms/step - loss: 10.1875 - root_mean_squared_error: 2.4069 - val_loss: 9.7965 - val_root_mean_squared_error: 2.3289\n",
      "Epoch 10/100\n",
      "44/44 [==============================] - 0s 11ms/step - loss: 9.0370 - root_mean_squared_error: 2.2556 - val_loss: 8.7251 - val_root_mean_squared_error: 2.1826\n",
      "Epoch 11/100\n",
      "44/44 [==============================] - 0s 11ms/step - loss: 8.0436 - root_mean_squared_error: 2.1148 - val_loss: 7.8148 - val_root_mean_squared_error: 2.0499\n",
      "Epoch 12/100\n",
      "44/44 [==============================] - 1s 12ms/step - loss: 7.2195 - root_mean_squared_error: 1.9898 - val_loss: 7.0719 - val_root_mean_squared_error: 1.9369\n",
      "Epoch 13/100\n",
      "44/44 [==============================] - 0s 11ms/step - loss: 6.5577 - root_mean_squared_error: 1.8847 - val_loss: 6.4742 - val_root_mean_squared_error: 1.8407\n",
      "Epoch 14/100\n",
      "44/44 [==============================] - 0s 11ms/step - loss: 6.0440 - root_mean_squared_error: 1.7976 - val_loss: 6.0319 - val_root_mean_squared_error: 1.7622\n",
      "Epoch 15/100\n",
      "44/44 [==============================] - 0s 11ms/step - loss: 5.6480 - root_mean_squared_error: 1.7274 - val_loss: 5.6882 - val_root_mean_squared_error: 1.6981\n",
      "Epoch 16/100\n",
      "44/44 [==============================] - 1s 12ms/step - loss: 5.3476 - root_mean_squared_error: 1.6719 - val_loss: 5.4067 - val_root_mean_squared_error: 1.6459\n",
      "Epoch 17/100\n",
      "44/44 [==============================] - 0s 10ms/step - loss: 5.1113 - root_mean_squared_error: 1.6265 - val_loss: 5.1906 - val_root_mean_squared_error: 1.6024\n",
      "Epoch 18/100\n",
      "44/44 [==============================] - 0s 11ms/step - loss: 4.9224 - root_mean_squared_error: 1.5885 - val_loss: 5.0040 - val_root_mean_squared_error: 1.5653\n",
      "Epoch 19/100\n",
      "44/44 [==============================] - 0s 10ms/step - loss: 4.7675 - root_mean_squared_error: 1.5578 - val_loss: 4.8662 - val_root_mean_squared_error: 1.5385\n",
      "Epoch 20/100\n",
      "44/44 [==============================] - 1s 12ms/step - loss: 4.6385 - root_mean_squared_error: 1.5309 - val_loss: 4.7401 - val_root_mean_squared_error: 1.5121\n",
      "Epoch 21/100\n",
      "44/44 [==============================] - 0s 11ms/step - loss: 4.5286 - root_mean_squared_error: 1.5076 - val_loss: 4.6501 - val_root_mean_squared_error: 1.4947\n",
      "Epoch 22/100\n",
      "44/44 [==============================] - 0s 11ms/step - loss: 4.4365 - root_mean_squared_error: 1.4893 - val_loss: 4.5655 - val_root_mean_squared_error: 1.4758\n",
      "Epoch 23/100\n",
      "44/44 [==============================] - 0s 11ms/step - loss: 4.3591 - root_mean_squared_error: 1.4731 - val_loss: 4.4884 - val_root_mean_squared_error: 1.4609\n",
      "Epoch 24/100\n",
      "44/44 [==============================] - 0s 11ms/step - loss: 4.2890 - root_mean_squared_error: 1.4571 - val_loss: 4.4111 - val_root_mean_squared_error: 1.4481\n",
      "Epoch 25/100\n",
      "44/44 [==============================] - 0s 11ms/step - loss: 4.2294 - root_mean_squared_error: 1.4464 - val_loss: 4.3536 - val_root_mean_squared_error: 1.4354\n",
      "Epoch 26/100\n",
      "44/44 [==============================] - 0s 11ms/step - loss: 4.1753 - root_mean_squared_error: 1.4347 - val_loss: 4.3152 - val_root_mean_squared_error: 1.4272\n",
      "Epoch 27/100\n",
      "44/44 [==============================] - 0s 11ms/step - loss: 4.1263 - root_mean_squared_error: 1.4245 - val_loss: 4.2470 - val_root_mean_squared_error: 1.4147\n",
      "Epoch 28/100\n",
      "44/44 [==============================] - 0s 10ms/step - loss: 4.0797 - root_mean_squared_error: 1.4153 - val_loss: 4.2326 - val_root_mean_squared_error: 1.4123\n",
      "Epoch 29/100\n",
      "44/44 [==============================] - 0s 11ms/step - loss: 4.0375 - root_mean_squared_error: 1.4062 - val_loss: 4.1922 - val_root_mean_squared_error: 1.4033\n",
      "Epoch 30/100\n",
      "44/44 [==============================] - 0s 11ms/step - loss: 3.9997 - root_mean_squared_error: 1.3977 - val_loss: 4.1523 - val_root_mean_squared_error: 1.3974\n",
      "Epoch 31/100\n",
      "44/44 [==============================] - 0s 11ms/step - loss: 3.9674 - root_mean_squared_error: 1.3909 - val_loss: 4.1167 - val_root_mean_squared_error: 1.3889\n",
      "Epoch 32/100\n",
      "44/44 [==============================] - 1s 12ms/step - loss: 3.9392 - root_mean_squared_error: 1.3856 - val_loss: 4.0917 - val_root_mean_squared_error: 1.3806\n",
      "Epoch 33/100\n",
      "44/44 [==============================] - 1s 13ms/step - loss: 3.9128 - root_mean_squared_error: 1.3787 - val_loss: 4.0777 - val_root_mean_squared_error: 1.3812\n",
      "Epoch 34/100\n",
      "44/44 [==============================] - 1s 12ms/step - loss: 3.8891 - root_mean_squared_error: 1.3741 - val_loss: 4.0444 - val_root_mean_squared_error: 1.3750\n",
      "Epoch 35/100\n",
      "44/44 [==============================] - 1s 11ms/step - loss: 3.8667 - root_mean_squared_error: 1.3690 - val_loss: 4.0197 - val_root_mean_squared_error: 1.3711\n",
      "Epoch 36/100\n",
      "44/44 [==============================] - 0s 11ms/step - loss: 3.8449 - root_mean_squared_error: 1.3642 - val_loss: 4.0092 - val_root_mean_squared_error: 1.3697\n",
      "Epoch 37/100\n",
      "44/44 [==============================] - 0s 10ms/step - loss: 3.8225 - root_mean_squared_error: 1.3589 - val_loss: 3.9753 - val_root_mean_squared_error: 1.3631\n",
      "Epoch 38/100\n",
      "44/44 [==============================] - 1s 12ms/step - loss: 3.8049 - root_mean_squared_error: 1.3546 - val_loss: 3.9618 - val_root_mean_squared_error: 1.3583\n",
      "Epoch 39/100\n",
      "44/44 [==============================] - 1s 12ms/step - loss: 3.7876 - root_mean_squared_error: 1.3523 - val_loss: 3.9549 - val_root_mean_squared_error: 1.3571\n",
      "Epoch 40/100\n",
      "44/44 [==============================] - 0s 11ms/step - loss: 3.7733 - root_mean_squared_error: 1.3489 - val_loss: 3.9252 - val_root_mean_squared_error: 1.3511\n",
      "Epoch 41/100\n",
      "44/44 [==============================] - 0s 11ms/step - loss: 3.7579 - root_mean_squared_error: 1.3454 - val_loss: 3.9185 - val_root_mean_squared_error: 1.3516\n",
      "Epoch 42/100\n",
      "44/44 [==============================] - 0s 11ms/step - loss: 3.7461 - root_mean_squared_error: 1.3422 - val_loss: 3.8967 - val_root_mean_squared_error: 1.3480\n",
      "Epoch 43/100\n",
      "44/44 [==============================] - 0s 11ms/step - loss: 3.7314 - root_mean_squared_error: 1.3396 - val_loss: 3.8604 - val_root_mean_squared_error: 1.3404\n",
      "Epoch 44/100\n",
      "44/44 [==============================] - 0s 11ms/step - loss: 3.7207 - root_mean_squared_error: 1.3368 - val_loss: 3.8595 - val_root_mean_squared_error: 1.3427\n",
      "Epoch 45/100\n",
      "44/44 [==============================] - 0s 11ms/step - loss: 3.7085 - root_mean_squared_error: 1.3354 - val_loss: 3.8406 - val_root_mean_squared_error: 1.3361\n",
      "Epoch 46/100\n",
      "44/44 [==============================] - 1s 12ms/step - loss: 3.6959 - root_mean_squared_error: 1.3315 - val_loss: 3.8192 - val_root_mean_squared_error: 1.3351\n",
      "Epoch 47/100\n",
      "44/44 [==============================] - 0s 11ms/step - loss: 3.6836 - root_mean_squared_error: 1.3298 - val_loss: 3.8231 - val_root_mean_squared_error: 1.3314\n",
      "Epoch 48/100\n",
      "44/44 [==============================] - 0s 11ms/step - loss: 3.6708 - root_mean_squared_error: 1.3253 - val_loss: 3.7961 - val_root_mean_squared_error: 1.3309\n",
      "Epoch 49/100\n",
      "44/44 [==============================] - 0s 10ms/step - loss: 3.6587 - root_mean_squared_error: 1.3242 - val_loss: 3.7897 - val_root_mean_squared_error: 1.3284\n",
      "Epoch 50/100\n",
      "44/44 [==============================] - 0s 11ms/step - loss: 3.6488 - root_mean_squared_error: 1.3216 - val_loss: 3.7956 - val_root_mean_squared_error: 1.3284\n",
      "Epoch 51/100\n",
      "44/44 [==============================] - 0s 11ms/step - loss: 3.6375 - root_mean_squared_error: 1.3190 - val_loss: 3.7697 - val_root_mean_squared_error: 1.3288\n",
      "Epoch 52/100\n",
      "44/44 [==============================] - 0s 11ms/step - loss: 3.6319 - root_mean_squared_error: 1.3184 - val_loss: 3.7628 - val_root_mean_squared_error: 1.3228\n",
      "Epoch 53/100\n",
      "44/44 [==============================] - 0s 11ms/step - loss: 3.6226 - root_mean_squared_error: 1.3162 - val_loss: 3.7653 - val_root_mean_squared_error: 1.3230\n",
      "Epoch 54/100\n",
      "44/44 [==============================] - 0s 11ms/step - loss: 3.6147 - root_mean_squared_error: 1.3145 - val_loss: 3.7443 - val_root_mean_squared_error: 1.3202\n",
      "Epoch 55/100\n",
      "44/44 [==============================] - 0s 11ms/step - loss: 3.6055 - root_mean_squared_error: 1.3132 - val_loss: 3.7384 - val_root_mean_squared_error: 1.3174\n",
      "Epoch 56/100\n",
      "44/44 [==============================] - 0s 11ms/step - loss: 3.5984 - root_mean_squared_error: 1.3105 - val_loss: 3.7353 - val_root_mean_squared_error: 1.3215\n",
      "Epoch 57/100\n",
      "44/44 [==============================] - 0s 11ms/step - loss: 3.5922 - root_mean_squared_error: 1.3108 - val_loss: 3.7369 - val_root_mean_squared_error: 1.3181\n",
      "Epoch 58/100\n",
      "44/44 [==============================] - 0s 11ms/step - loss: 3.5857 - root_mean_squared_error: 1.3087 - val_loss: 3.7340 - val_root_mean_squared_error: 1.3186\n",
      "Epoch 59/100\n",
      "44/44 [==============================] - 0s 11ms/step - loss: 3.5813 - root_mean_squared_error: 1.3082 - val_loss: 3.7420 - val_root_mean_squared_error: 1.3199\n",
      "Epoch 60/100\n",
      "44/44 [==============================] - 0s 11ms/step - loss: 3.5749 - root_mean_squared_error: 1.3069 - val_loss: 3.7373 - val_root_mean_squared_error: 1.3181\n",
      "Epoch 61/100\n",
      "44/44 [==============================] - 0s 11ms/step - loss: 3.5679 - root_mean_squared_error: 1.3054 - val_loss: 3.7282 - val_root_mean_squared_error: 1.3161\n",
      "Epoch 62/100\n",
      "44/44 [==============================] - 0s 11ms/step - loss: 3.5603 - root_mean_squared_error: 1.3041 - val_loss: 3.7095 - val_root_mean_squared_error: 1.3122\n",
      "Epoch 63/100\n",
      "44/44 [==============================] - 0s 11ms/step - loss: 3.5551 - root_mean_squared_error: 1.3035 - val_loss: 3.7117 - val_root_mean_squared_error: 1.3112\n",
      "Epoch 64/100\n",
      "44/44 [==============================] - 1s 11ms/step - loss: 3.5497 - root_mean_squared_error: 1.3016 - val_loss: 3.6962 - val_root_mean_squared_error: 1.3097\n",
      "Epoch 65/100\n",
      "44/44 [==============================] - 0s 11ms/step - loss: 3.5451 - root_mean_squared_error: 1.3015 - val_loss: 3.6716 - val_root_mean_squared_error: 1.3066\n",
      "Epoch 66/100\n",
      "44/44 [==============================] - 1s 12ms/step - loss: 3.5415 - root_mean_squared_error: 1.3005 - val_loss: 3.6991 - val_root_mean_squared_error: 1.3116\n",
      "Epoch 67/100\n",
      "44/44 [==============================] - 1s 12ms/step - loss: 3.5358 - root_mean_squared_error: 1.2997 - val_loss: 3.6966 - val_root_mean_squared_error: 1.3052\n",
      "Epoch 68/100\n",
      "44/44 [==============================] - 0s 11ms/step - loss: 3.5324 - root_mean_squared_error: 1.2992 - val_loss: 3.6959 - val_root_mean_squared_error: 1.3075\n",
      "Epoch 69/100\n",
      "44/44 [==============================] - 1s 12ms/step - loss: 3.5260 - root_mean_squared_error: 1.2979 - val_loss: 3.6856 - val_root_mean_squared_error: 1.3055\n",
      "Epoch 70/100\n",
      "44/44 [==============================] - 0s 11ms/step - loss: 3.5246 - root_mean_squared_error: 1.2976 - val_loss: 3.6937 - val_root_mean_squared_error: 1.3069\n",
      "Epoch 71/100\n",
      "44/44 [==============================] - 0s 11ms/step - loss: 3.5197 - root_mean_squared_error: 1.2973 - val_loss: 3.6741 - val_root_mean_squared_error: 1.3050\n",
      "Epoch 72/100\n",
      "44/44 [==============================] - 0s 11ms/step - loss: 3.5191 - root_mean_squared_error: 1.2968 - val_loss: 3.6739 - val_root_mean_squared_error: 1.2996\n",
      "Epoch 73/100\n",
      "44/44 [==============================] - 0s 11ms/step - loss: 3.5140 - root_mean_squared_error: 1.2956 - val_loss: 3.6623 - val_root_mean_squared_error: 1.3050\n",
      "Epoch 74/100\n",
      "44/44 [==============================] - 0s 11ms/step - loss: 3.5120 - root_mean_squared_error: 1.2957 - val_loss: 3.6581 - val_root_mean_squared_error: 1.2996\n",
      "Epoch 75/100\n",
      "44/44 [==============================] - 0s 11ms/step - loss: 3.5088 - root_mean_squared_error: 1.2946 - val_loss: 3.6624 - val_root_mean_squared_error: 1.3037\n",
      "Epoch 76/100\n",
      "44/44 [==============================] - 0s 11ms/step - loss: 3.5050 - root_mean_squared_error: 1.2949 - val_loss: 3.6472 - val_root_mean_squared_error: 1.2993\n",
      "Epoch 77/100\n",
      "44/44 [==============================] - 0s 11ms/step - loss: 3.5026 - root_mean_squared_error: 1.2932 - val_loss: 3.6598 - val_root_mean_squared_error: 1.3015\n",
      "Epoch 78/100\n",
      "44/44 [==============================] - 0s 11ms/step - loss: 3.5027 - root_mean_squared_error: 1.2940 - val_loss: 3.6503 - val_root_mean_squared_error: 1.3021\n",
      "Epoch 79/100\n",
      "44/44 [==============================] - 0s 11ms/step - loss: 3.4993 - root_mean_squared_error: 1.2934 - val_loss: 3.6633 - val_root_mean_squared_error: 1.3036\n",
      "Epoch 80/100\n",
      "44/44 [==============================] - 0s 11ms/step - loss: 3.4978 - root_mean_squared_error: 1.2926 - val_loss: 3.6416 - val_root_mean_squared_error: 1.2987\n",
      "Epoch 81/100\n",
      "44/44 [==============================] - 0s 11ms/step - loss: 3.4955 - root_mean_squared_error: 1.2925 - val_loss: 3.6506 - val_root_mean_squared_error: 1.3004\n",
      "Epoch 82/100\n",
      "44/44 [==============================] - 1s 12ms/step - loss: 3.4914 - root_mean_squared_error: 1.2921 - val_loss: 3.6507 - val_root_mean_squared_error: 1.3011\n",
      "Epoch 83/100\n",
      "44/44 [==============================] - 0s 11ms/step - loss: 3.4895 - root_mean_squared_error: 1.2910 - val_loss: 3.6289 - val_root_mean_squared_error: 1.2947\n",
      "Epoch 84/100\n",
      "44/44 [==============================] - 1s 12ms/step - loss: 3.4873 - root_mean_squared_error: 1.2906 - val_loss: 3.6259 - val_root_mean_squared_error: 1.2975\n",
      "Epoch 85/100\n",
      "44/44 [==============================] - 0s 11ms/step - loss: 3.4834 - root_mean_squared_error: 1.2900 - val_loss: 3.6297 - val_root_mean_squared_error: 1.2964\n",
      "Epoch 86/100\n",
      "44/44 [==============================] - 0s 11ms/step - loss: 3.4803 - root_mean_squared_error: 1.2894 - val_loss: 3.6358 - val_root_mean_squared_error: 1.2967\n",
      "Epoch 87/100\n",
      "44/44 [==============================] - 0s 11ms/step - loss: 3.4780 - root_mean_squared_error: 1.2892 - val_loss: 3.6268 - val_root_mean_squared_error: 1.2965\n",
      "Epoch 88/100\n",
      "44/44 [==============================] - 0s 11ms/step - loss: 3.4764 - root_mean_squared_error: 1.2888 - val_loss: 3.6237 - val_root_mean_squared_error: 1.2941\n",
      "Epoch 89/100\n",
      "44/44 [==============================] - 1s 12ms/step - loss: 3.4724 - root_mean_squared_error: 1.2874 - val_loss: 3.6247 - val_root_mean_squared_error: 1.2919\n",
      "Epoch 90/100\n",
      "44/44 [==============================] - 1s 14ms/step - loss: 3.4709 - root_mean_squared_error: 1.2877 - val_loss: 3.6176 - val_root_mean_squared_error: 1.2917\n",
      "Epoch 91/100\n",
      "44/44 [==============================] - 1s 13ms/step - loss: 3.4690 - root_mean_squared_error: 1.2870 - val_loss: 3.6177 - val_root_mean_squared_error: 1.2947\n",
      "Epoch 92/100\n",
      "44/44 [==============================] - 0s 11ms/step - loss: 3.4655 - root_mean_squared_error: 1.2867 - val_loss: 3.6384 - val_root_mean_squared_error: 1.2946\n",
      "Epoch 93/100\n",
      "44/44 [==============================] - 0s 10ms/step - loss: 3.4643 - root_mean_squared_error: 1.2856 - val_loss: 3.6341 - val_root_mean_squared_error: 1.2979\n",
      "Epoch 94/100\n",
      "44/44 [==============================] - 0s 10ms/step - loss: 3.4625 - root_mean_squared_error: 1.2859 - val_loss: 3.6452 - val_root_mean_squared_error: 1.2979\n",
      "Epoch 95/100\n",
      "44/44 [==============================] - 0s 10ms/step - loss: 3.4636 - root_mean_squared_error: 1.2858 - val_loss: 3.6229 - val_root_mean_squared_error: 1.2909\n",
      "Epoch 96/100\n",
      "44/44 [==============================] - 0s 10ms/step - loss: 3.4582 - root_mean_squared_error: 1.2841 - val_loss: 3.6147 - val_root_mean_squared_error: 1.2929\n",
      "Epoch 97/100\n",
      "44/44 [==============================] - 0s 10ms/step - loss: 3.4564 - root_mean_squared_error: 1.2841 - val_loss: 3.6064 - val_root_mean_squared_error: 1.2910\n",
      "Epoch 98/100\n",
      "44/44 [==============================] - 0s 10ms/step - loss: 3.4550 - root_mean_squared_error: 1.2832 - val_loss: 3.6165 - val_root_mean_squared_error: 1.2934\n",
      "Epoch 99/100\n",
      "44/44 [==============================] - 0s 11ms/step - loss: 3.4518 - root_mean_squared_error: 1.2827 - val_loss: 3.6183 - val_root_mean_squared_error: 1.2932\n",
      "Epoch 100/100\n",
      "44/44 [==============================] - 1s 11ms/step - loss: 3.4495 - root_mean_squared_error: 1.2821 - val_loss: 3.6131 - val_root_mean_squared_error: 1.2908\n"
     ]
    }
   ],
   "source": [
    "history = model.fit(X_train, y_train, epochs=100, validation_data=(X_val, y_val), batch_size=4096)"
   ],
   "metadata": {
    "collapsed": false,
    "pycharm": {
     "name": "#%%\n"
    }
   }
  },
  {
   "cell_type": "code",
   "execution_count": 29,
   "outputs": [
    {
     "name": "stdout",
     "output_type": "stream",
     "text": [
      "146/146 [==============================] - 1s 6ms/step - loss: 3.7977 - root_mean_squared_error: 1.3296\n"
     ]
    },
    {
     "data": {
      "text/plain": "[3.797703981399536, 1.3296338319778442]"
     },
     "execution_count": 29,
     "metadata": {},
     "output_type": "execute_result"
    }
   ],
   "source": [
    "# Evaluate the model on the validation set\n",
    "model.evaluate(X_test, y_test)"
   ],
   "metadata": {
    "collapsed": false,
    "pycharm": {
     "name": "#%%\n"
    }
   }
  },
  {
   "cell_type": "code",
   "execution_count": 30,
   "outputs": [
    {
     "data": {
      "text/plain": "        loss  root_mean_squared_error  val_loss  val_root_mean_squared_error  \\\n95  3.458194                 1.284117  3.614663                     1.292943   \n96  3.456372                 1.284139  3.606425                     1.290974   \n97  3.455030                 1.283212  3.616486                     1.293383   \n98  3.451813                 1.282664  3.618344                     1.293222   \n99  3.449511                 1.282088  3.613076                     1.290784   \n\n    epoch  \n95     95  \n96     96  \n97     97  \n98     98  \n99     99  ",
      "text/html": "<div>\n<style scoped>\n    .dataframe tbody tr th:only-of-type {\n        vertical-align: middle;\n    }\n\n    .dataframe tbody tr th {\n        vertical-align: top;\n    }\n\n    .dataframe thead th {\n        text-align: right;\n    }\n</style>\n<table border=\"1\" class=\"dataframe\">\n  <thead>\n    <tr style=\"text-align: right;\">\n      <th></th>\n      <th>loss</th>\n      <th>root_mean_squared_error</th>\n      <th>val_loss</th>\n      <th>val_root_mean_squared_error</th>\n      <th>epoch</th>\n    </tr>\n  </thead>\n  <tbody>\n    <tr>\n      <th>95</th>\n      <td>3.458194</td>\n      <td>1.284117</td>\n      <td>3.614663</td>\n      <td>1.292943</td>\n      <td>95</td>\n    </tr>\n    <tr>\n      <th>96</th>\n      <td>3.456372</td>\n      <td>1.284139</td>\n      <td>3.606425</td>\n      <td>1.290974</td>\n      <td>96</td>\n    </tr>\n    <tr>\n      <th>97</th>\n      <td>3.455030</td>\n      <td>1.283212</td>\n      <td>3.616486</td>\n      <td>1.293383</td>\n      <td>97</td>\n    </tr>\n    <tr>\n      <th>98</th>\n      <td>3.451813</td>\n      <td>1.282664</td>\n      <td>3.618344</td>\n      <td>1.293222</td>\n      <td>98</td>\n    </tr>\n    <tr>\n      <th>99</th>\n      <td>3.449511</td>\n      <td>1.282088</td>\n      <td>3.613076</td>\n      <td>1.290784</td>\n      <td>99</td>\n    </tr>\n  </tbody>\n</table>\n</div>"
     },
     "execution_count": 30,
     "metadata": {},
     "output_type": "execute_result"
    }
   ],
   "source": [
    "hist = pd.DataFrame(history.history)\n",
    "hist['epoch'] = history.epoch\n",
    "hist.tail()"
   ],
   "metadata": {
    "collapsed": false,
    "pycharm": {
     "name": "#%%\n"
    }
   }
  },
  {
   "cell_type": "code",
   "execution_count": 31,
   "outputs": [],
   "source": [
    "def plot_loss(history):\n",
    "    plt.plot(history.history['root_mean_squared_error'], label='root_mean_squared_error')\n",
    "    plt.plot(history.history['val_root_mean_squared_error'], label='val_root_mean_squared_error')\n",
    "    plt.ylim([0, 10])\n",
    "    plt.xlabel('Epoch')\n",
    "    plt.ylabel('Error [MPG]')\n",
    "    plt.legend()\n",
    "    plt.grid(True)"
   ],
   "metadata": {
    "collapsed": false,
    "pycharm": {
     "name": "#%%\n"
    }
   }
  },
  {
   "cell_type": "code",
   "execution_count": 32,
   "outputs": [
    {
     "data": {
      "text/plain": "<Figure size 432x288 with 1 Axes>",
      "image/png": "[encoded data removed]"
     },
     "metadata": {
      "needs_background": "light"
     },
     "output_type": "display_data"
    }
   ],
   "source": [
    "plot_loss(history)"
   ],
   "metadata": {
    "collapsed": false,
    "pycharm": {
     "name": "#%%\n"
    }
   }
  },
  {
   "cell_type": "code",
   "execution_count": 33,
   "outputs": [
    {
     "name": "stdout",
     "output_type": "stream",
     "text": [
      "INFO:tensorflow:Assets written to: ../../models/assets\n"
     ]
    }
   ],
   "source": [
    "model.save(\"../../models\")"
   ],
   "metadata": {
    "collapsed": false,
    "pycharm": {
     "name": "#%%\n"
    }
   }
  },
  {
   "cell_type": "code",
   "execution_count": null,
   "outputs": [],
   "source": [],
   "metadata": {
    "collapsed": false,
    "pycharm": {
     "name": "#%%\n"
    }
   }
  }
 ],
 "metadata": {
  "kernelspec": {
   "display_name": "Python 3",
   "language": "python",
   "name": "python3"
  },
  "language_info": {
   "codemirror_mode": {
    "name": "ipython",
    "version": 2
   },
   "file_extension": ".py",
   "mimetype": "text/x-python",
   "name": "python",
   "nbconvert_exporter": "python",
   "pygments_lexer": "ipython2",
   "version": "2.7.6"
  }
 },
 "nbformat": 4,
 "nbformat_minor": 0
}