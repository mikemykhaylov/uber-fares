{
 "cells": [
  {
   "cell_type": "code",
   "execution_count": 1,
   "metadata": {
    "collapsed": true
   },
   "outputs": [],
   "source": [
    "import pandas as pd\n",
    "from pandas import DataFrame"
   ]
  },
  {
   "cell_type": "code",
   "execution_count": 37,
   "outputs": [
    {
     "data": {
      "text/plain": "         Date      Holiday    WeekDay  Month  Day  Year\n0  2004-07-04  4th of July     Sunday      7    4  2004\n1  2005-07-04  4th of July     Monday      7    4  2005\n2  2006-07-04  4th of July    Tuesday      7    4  2006\n3  2007-07-04  4th of July  Wednesday      7    4  2007\n4  2008-07-04  4th of July     Friday      7    4  2008",
      "text/html": "<div>\n<style scoped>\n    .dataframe tbody tr th:only-of-type {\n        vertical-align: middle;\n    }\n\n    .dataframe tbody tr th {\n        vertical-align: top;\n    }\n\n    .dataframe thead th {\n        text-align: right;\n    }\n</style>\n<table border=\"1\" class=\"dataframe\">\n  <thead>\n    <tr style=\"text-align: right;\">\n      <th></th>\n      <th>Date</th>\n      <th>Holiday</th>\n      <th>WeekDay</th>\n      <th>Month</th>\n      <th>Day</th>\n      <th>Year</th>\n    </tr>\n  </thead>\n  <tbody>\n    <tr>\n      <th>0</th>\n      <td>2004-07-04</td>\n      <td>4th of July</td>\n      <td>Sunday</td>\n      <td>7</td>\n      <td>4</td>\n      <td>2004</td>\n    </tr>\n    <tr>\n      <th>1</th>\n      <td>2005-07-04</td>\n      <td>4th of July</td>\n      <td>Monday</td>\n      <td>7</td>\n      <td>4</td>\n      <td>2005</td>\n    </tr>\n    <tr>\n      <th>2</th>\n      <td>2006-07-04</td>\n      <td>4th of July</td>\n      <td>Tuesday</td>\n      <td>7</td>\n      <td>4</td>\n      <td>2006</td>\n    </tr>\n    <tr>\n      <th>3</th>\n      <td>2007-07-04</td>\n      <td>4th of July</td>\n      <td>Wednesday</td>\n      <td>7</td>\n      <td>4</td>\n      <td>2007</td>\n    </tr>\n    <tr>\n      <th>4</th>\n      <td>2008-07-04</td>\n      <td>4th of July</td>\n      <td>Friday</td>\n      <td>7</td>\n      <td>4</td>\n      <td>2008</td>\n    </tr>\n  </tbody>\n</table>\n</div>"
     },
     "execution_count": 37,
     "metadata": {},
     "output_type": "execute_result"
    }
   ],
   "source": [
    "df: DataFrame = pd.read_csv('../../data/interim/2_further_exploration.csv')\n",
    "df[['year', 'month', 'day']] = df[['year', 'month', 'day']].astype(int)\n",
    "holidays_df = pd.read_csv('../../data/external/us_holidays.csv')\n",
    "holidays_df.head()"
   ],
   "metadata": {
    "collapsed": false,
    "pycharm": {
     "name": "#%%\n"
    }
   }
  },
  {
   "cell_type": "code",
   "execution_count": 38,
   "outputs": [],
   "source": [
    "is_holiday = []\n",
    "\n",
    "def pad_number(n, l):\n",
    "    return str(n.astype(int)).zfill(l)\n",
    "\n",
    "for i, row in df.iterrows():\n",
    "    date = f\"{pad_number(row['year'], 4)}-{pad_number(row['month'], 2)}-{pad_number(row['day'],2)}\"\n",
    "    is_holiday.append(date in holidays_df['Date'].values)\n",
    "\n",
    "df['is_holiday'] = is_holiday"
   ],
   "metadata": {
    "collapsed": false,
    "pycharm": {
     "name": "#%%\n"
    }
   }
  },
  {
   "cell_type": "code",
   "execution_count": 39,
   "outputs": [
    {
     "data": {
      "text/plain": "is_holiday\nFalse         175138\nTrue            7209\ndtype: int64"
     },
     "execution_count": 39,
     "metadata": {},
     "output_type": "execute_result"
    }
   ],
   "source": [
    "df[['is_holiday']].value_counts()"
   ],
   "metadata": {
    "collapsed": false,
    "pycharm": {
     "name": "#%%\n"
    }
   }
  },
  {
   "cell_type": "code",
   "execution_count": 34,
   "outputs": [
    {
     "data": {
      "text/plain": "True"
     },
     "execution_count": 34,
     "metadata": {},
     "output_type": "execute_result"
    }
   ],
   "source": [
    "\"2004-07-04\" in holidays_df['Date'].values"
   ],
   "metadata": {
    "collapsed": false,
    "pycharm": {
     "name": "#%%\n"
    }
   }
  },
  {
   "cell_type": "code",
   "execution_count": null,
   "outputs": [],
   "source": [],
   "metadata": {
    "collapsed": false,
    "pycharm": {
     "name": "#%%\n"
    }
   }
  }
 ],
 "metadata": {
  "kernelspec": {
   "display_name": "Python 3",
   "language": "python",
   "name": "python3"
  },
  "language_info": {
   "codemirror_mode": {
    "name": "ipython",
    "version": 2
   },
   "file_extension": ".py",
   "mimetype": "text/x-python",
   "name": "python",
   "nbconvert_exporter": "python",
   "pygments_lexer": "ipython2",
   "version": "2.7.6"
  }
 },
 "nbformat": 4,
 "nbformat_minor": 0
}